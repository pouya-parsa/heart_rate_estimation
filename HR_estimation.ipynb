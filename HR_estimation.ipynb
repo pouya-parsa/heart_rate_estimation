{
 "cells": [
  {
   "cell_type": "markdown",
   "metadata": {},
   "source": [
    "## Install and Import Libraries"
   ]
  },
  {
   "cell_type": "code",
   "execution_count": 2,
   "metadata": {},
   "outputs": [
    {
     "name": "stdout",
     "output_type": "stream",
     "text": [
      "Requirement already satisfied: opencv-python in /home/pouya/.local/lib/python3.8/site-packages (4.5.3.56)\n",
      "Requirement already satisfied: numpy>=1.17.3 in /usr/lib/python3/dist-packages (from opencv-python) (1.17.4)\n",
      "Requirement already satisfied: imutils in /home/pouya/.local/lib/python3.8/site-packages (0.5.4)\n",
      "Requirement already satisfied: scipy in /home/pouya/.local/lib/python3.8/site-packages (1.6.0)\n",
      "Requirement already satisfied: numpy>=1.16.5 in /usr/lib/python3/dist-packages (from scipy) (1.17.4)\n",
      "Collecting kivymd\n",
      "  Downloading kivymd-0.104.2-py3-none-any.whl (2.3 MB)\n",
      "\u001b[K     |████████████████████████████████| 2.3 MB 183 kB/s eta 0:00:01\n",
      "\u001b[?25hRequirement already satisfied: pillow in /usr/lib/python3/dist-packages (from kivymd) (7.0.0)\n",
      "Collecting kivy>=2.0.0\n",
      "  Downloading Kivy-2.0.0-cp38-cp38-manylinux2010_x86_64.whl (22.2 MB)\n",
      "\u001b[K     |████████████████████████████████| 22.2 MB 115 kB/s eta 0:00:01\n",
      "\u001b[?25hCollecting Kivy-Garden>=0.1.4\n",
      "  Using cached kivy-garden-0.1.4.tar.gz (6.8 kB)\n",
      "Collecting docutils\n",
      "  Downloading docutils-0.17.1-py2.py3-none-any.whl (575 kB)\n",
      "\u001b[K     |████████████████████████████████| 575 kB 130 kB/s eta 0:00:01\n",
      "\u001b[?25hRequirement already satisfied: pygments in /usr/lib/python3/dist-packages (from kivy>=2.0.0->kivymd) (2.3.1)\n",
      "Requirement already satisfied: requests in /usr/lib/python3/dist-packages (from Kivy-Garden>=0.1.4->kivy>=2.0.0->kivymd) (2.22.0)\n",
      "Building wheels for collected packages: Kivy-Garden\n",
      "  Building wheel for Kivy-Garden (setup.py) ... \u001b[?25ldone\n",
      "\u001b[?25h  Created wheel for Kivy-Garden: filename=Kivy_Garden-0.1.4-py3-none-any.whl size=4531 sha256=16b6d8bd3c63774dbc6c8a6f4ba33808b1f2aac529659bc284846bc7480bc181\n",
      "  Stored in directory: /home/pouya/.cache/pip/wheels/d2/72/1a/9ddd17f00755707937caa350616965fb3330a6270425f397e6\n",
      "Successfully built Kivy-Garden\n",
      "Installing collected packages: Kivy-Garden, docutils, kivy, kivymd\n",
      "Successfully installed Kivy-Garden-0.1.4 docutils-0.17.1 kivy-2.0.0 kivymd-0.104.2\n"
     ]
    }
   ],
   "source": [
    "# !python3 -m pip install opencv-python\n",
    "# !python3 -m pip install imutils\n",
    "# !python3 -m pip install scipy\n",
    "# !python3 -m pip install kivymd"
   ]
  },
  {
   "cell_type": "code",
   "execution_count": 167,
   "metadata": {},
   "outputs": [],
   "source": [
    "import cv2\n",
    "import dlib\n",
    "from imutils import face_utils\n",
    "import numpy as np\n",
    "from scipy import signal\n",
    "import matplotlib.pyplot as plt\n",
    "from sklearn.decomposition import FastICA\n",
    "import time\n",
    "import os\n",
    "import glob\n",
    "from tqdm import tqdm\n",
    "import pandas as pd\n",
    "import seaborn as sns\n",
    "sns.set()"
   ]
  },
  {
   "cell_type": "markdown",
   "metadata": {},
   "source": [
    "## Extract Means from RGB Videos"
   ]
  },
  {
   "cell_type": "code",
   "execution_count": 2,
   "metadata": {},
   "outputs": [],
   "source": [
    "detector = dlib.get_frontal_face_detector()\n",
    "predictor = dlib.shape_predictor(\"shape_predictor_68_face_landmarks.dat\")\n",
    "# fa = face_utils.FaceAligner(predictor, desiredFaceWidth=256)"
   ]
  },
  {
   "cell_type": "code",
   "execution_count": 3,
   "metadata": {},
   "outputs": [],
   "source": [
    "import cv2\n",
    "import numpy as np\n",
    "\n",
    "def get_buf(path):\n",
    "    \n",
    "    \n",
    "    cap = cv2.VideoCapture(path)\n",
    "    frameCount = int(cap.get(cv2.CAP_PROP_FRAME_COUNT))\n",
    "    frameWidth = int(cap.get(cv2.CAP_PROP_FRAME_WIDTH))\n",
    "    frameHeight = int(cap.get(cv2.CAP_PROP_FRAME_HEIGHT))\n",
    "\n",
    "    ROI = np.zeros((frameCount, 10, 10, 3))\n",
    "    \n",
    "#     buf = np.empty((frameCount, frameHeight, frameWidth, 3), np.dtype('uint8'))\n",
    "\n",
    "    fc = 0\n",
    "    ret = True\n",
    "    \n",
    "#     fps = cap.get(cv2.CAP_PROP_FPS)\n",
    "    \n",
    "    while (fc < frameCount  and ret):\n",
    "        ret, frame = cap.read()\n",
    "        \n",
    "        ROI[fc] = get_ROI(frame)\n",
    "        \n",
    "        fc += 1\n",
    "\n",
    "\n",
    "\n",
    "    cap.release()\n",
    "    \n",
    "    return ROI"
   ]
  },
  {
   "cell_type": "code",
   "execution_count": 4,
   "metadata": {},
   "outputs": [],
   "source": [
    "def get_ROI(frame):\n",
    "    \n",
    "    \n",
    "    data_buffer = []\n",
    "    bpms = []\n",
    "    \n",
    "        \n",
    "    gray = cv2.cvtColor(frame, cv2.COLOR_BGR2GRAY)\n",
    "\n",
    "    rects = detector(gray, 0)\n",
    "\n",
    "    if len(rects) > 0:\n",
    "\n",
    "        # converting opencv Rectangle object to tuple\n",
    "        (x, y, w, h) = face_utils.rect_to_bb(rects[0])\n",
    "\n",
    "        # drawing face bounding box on screen\n",
    "        cv2.rectangle(frame, (x, y), (x + w, y + h), (255, 0, 0), 2)\n",
    "\n",
    "        face_frame = frame[y: y + h, x: x + w]\n",
    "\n",
    "\n",
    "        grayf = cv2.cvtColor(face_frame, cv2.COLOR_BGR2GRAY)\n",
    "        shape = predictor(grayf, rects[0])\n",
    "        shape = face_utils.shape_to_np(shape)\n",
    "\n",
    "        ROI1_detected = frame[shape[29][1]:shape[33][1], shape[54][0]: shape[12][0]]\n",
    "        ROI2_detected = frame[shape[29][1]:shape[33][1], shape[4][0]: shape[48][0]]\n",
    "\n",
    "\n",
    "        y_start, y_end = ROI1_detected.shape[0] // 2 - 5, ROI1_detected.shape[0] // 2 + 5\n",
    "        x_start, x_end = ROI1_detected.shape[1] // 2 - 5, ROI1_detected.shape[1] // 2 + 5\n",
    "\n",
    "        ROI1_selected = ROI1_detected[y_start: y_end, x_start: x_end]\n",
    "\n",
    "\n",
    "        y_start, y_end = ROI2_detected.shape[0] // 2 - 5, ROI2_detected.shape[0] // 2 + 5\n",
    "        x_start, x_end = ROI2_detected.shape[1] // 2 - 5, ROI2_detected.shape[1] // 2 + 5\n",
    "\n",
    "        ROI2_selected = ROI2_detected[y_start: y_end, x_start: x_end]\n",
    "\n",
    "        return (ROI1_selected + ROI2_selected) / 2"
   ]
  },
  {
   "cell_type": "code",
   "execution_count": 7,
   "metadata": {},
   "outputs": [
    {
     "name": "stderr",
     "output_type": "stream",
     "text": [
      "100%|██████████| 65/65 [5:47:22<00:00, 320.66s/it]  \n"
     ]
    }
   ],
   "source": [
    "for session in tqdm(os.listdir(\"./dataset\")[35:100]):\n",
    "    \n",
    "    if len(glob.glob('./dataset/{}/*.npy'.format(session))) > 0:\n",
    "        continue\n",
    "    \n",
    "    video = glob.glob(\"./dataset/{}/*.avi\".format(session))[0]\n",
    "    \n",
    "    ROI = get_buf(video)\n",
    "    \n",
    "    channel_means = ROI.mean(axis=(1, 2))\n",
    "#     print(ROI.shape)\n",
    "#     channel_means = get_ROI(buf, fps)\n",
    "    \n",
    "#     print(channel_means.shape)\n",
    "    \n",
    "    np.save(\"./dataset/{}/{}.npy\".format(session, session), channel_means) "
   ]
  },
  {
   "cell_type": "markdown",
   "metadata": {},
   "source": [
    "## Get BPMS"
   ]
  },
  {
   "cell_type": "code",
   "execution_count": 186,
   "metadata": {},
   "outputs": [],
   "source": [
    "# implementing Realt Time Heart Rate Monitoring From Facial RGB Color Video Using Webcam H.Rahman, M.U Ahmed\n",
    "\n",
    "def process(data_buffer, times):\n",
    "    \n",
    "    \n",
    "    \"\"\"\n",
    "    Detrending\n",
    "    Remove unwanted trend from series\n",
    "    the collected RGB signals will be drfting and noising\n",
    "    \n",
    "    \"\"\"\n",
    "    data_buffer = signal.detrend(data_buffer, axis=0)\n",
    "    \n",
    "    \n",
    "    # Filtering\n",
    "    filter_ = np.hamming(len(data_buffer)) * 1.4 + 0.6\n",
    "#     filter_ = filter_.reshape(128, 1)\n",
    "    x_filtered = filter_ * data_buffer\n",
    "    \n",
    "    # Normalization\n",
    "#     data_buffer_normalized = (x_filtered - x_filtered.mean()) \\\n",
    "#                                     / x_filtered.std()\n",
    "    \n",
    "    \n",
    "    data_buffer_normalized = x_filtered / np.linalg.norm(x_filtered)\n",
    "    \n",
    "    fig, (ax1, ax2, ax3) = plt.subplots(3, 1, figsize=(6, 8))\n",
    "    \n",
    "    \n",
    "    ax1.plot(data_buffer, c=\"g\")\n",
    "    ax1.set_title(\"Input Signal\")\n",
    "    ax1.set_xlabel(\"Time(frame)\")\n",
    "    ax1.set_ylabel(\"Color intensity\")\n",
    "    \n",
    "#     plt.figure()\n",
    "    ax2.plot(data_buffer_normalized, c=\"g\")\n",
    "    ax2.set_title(\"Normalized Signal\")\n",
    "    ax2.set_xlabel(\"Time(frame)\")\n",
    "    ax2.set_ylabel(\"Signal Strength\")\n",
    "#     fastICA = FastICA()\n",
    "#     ica = fastICA.fit_transform(data_buffer_normalized.reshape(-1, 1))\n",
    "    \n",
    "#     plt.figure()\n",
    "#     plt.plot(ica)\n",
    "    \n",
    "    \n",
    "    fft = np.fft.fft(data_buffer_normalized)\n",
    "    fft = np.abs(fft) ** 2\n",
    "    \n",
    "    duration = (times[-1] - times[0])\n",
    "    \n",
    "    N = len(times)\n",
    "    \n",
    "    T = (times[-1] - times[0]) / N\n",
    "    \n",
    "    xt = np.linspace(0.0, 1.0/(2.0*T), N/2)\n",
    "    yt = (2.0/N) * np.abs(fft[:N//2])\n",
    "    \n",
    "    selected_freq = (xt > 0.75) & (xt < 4.6)\n",
    "    \n",
    "#     plt.figure()\n",
    "    ax3.plot(xt[selected_freq], yt[selected_freq], c='g')\n",
    "    ax3.set_title(\"FFT Applied\")\n",
    "    \n",
    "    ax3.set_xlabel(\"Frequency(Hz)\")\n",
    "    ax3.set_ylabel(\"Power\")\n",
    "    \n",
    "    fig.tight_layout()\n",
    "        \n",
    "#     plt.plot(times_, fft[selected_freq][:])\n",
    "\n",
    "#     plt.plot(times, fft)\n",
    "     \n",
    "    bpm_counting = len(signal.find_peaks(yt[selected_freq][:])[0]) / (times[-1] - times[0]) * 60\n",
    "    \n",
    "    idx = np.argmax(yt[selected_freq])\n",
    "    bpm_max = 1  / xt[selected_freq][idx] * 60\n",
    "    \n",
    "#     bpm = len(signal.find_peaks(yt[selected_freq])[0]) / (times[-1] - times[0]) * 60\n",
    "    \n",
    "    return (bpm_counting, bpm_max)"
   ]
  },
  {
   "cell_type": "code",
   "execution_count": 187,
   "metadata": {},
   "outputs": [
    {
     "data": {
      "text/plain": [
       "(54.995871180842286, 74.12244897959182)"
      ]
     },
     "execution_count": 187,
     "metadata": {},
     "output_type": "execute_result"
    },
    {
     "data": {
      "image/png": "[encoded data removed]",
      "text/plain": [
       "<Figure size 432x576 with 3 Axes>"
      ]
     },
     "metadata": {},
     "output_type": "display_data"
    }
   ],
   "source": [
    "channel_means = np.load(\"./dataset/2/2.npy\")\n",
    "    \n",
    "fps = 60\n",
    "times = np.linspace(0, len(channel_means) / fps, len(channel_means))\n",
    "\n",
    "process(channel_means[:, 1], times)"
   ]
  },
  {
   "cell_type": "code",
   "execution_count": 6,
   "metadata": {},
   "outputs": [],
   "source": [
    "# Measuring Heart Rate From Video Isabel Bush Stanford\n",
    "\n",
    "# def process1(data_buffer):\n",
    "    \n",
    "#     length = times[-1] - times[0]\n",
    "\n",
    "#     fps = len(data_buffer) / length\n",
    "    \n",
    "#     detrend = signal.detrend(data_buffer.mean(axis=1))\n",
    "\n",
    "#     normalized = (detrend - detrend.mean()) / detrend.std() \n",
    "\n",
    "#     filtered = (np.hamming(buffer_size) * 1.4 + 0.6) * normalized \n",
    "\n",
    "#     fft = np.fft.rfft(filtered)\n",
    "    \n",
    "# #     plt.plot(fft)\n",
    "    \n",
    "#     peaks_index = signal.find_peaks(fft)[0] \n",
    "    \n",
    "#     peaks_in_range = np.sum((fft[peaks_index] > 0.75) & (fft[peaks_index] < 4)) \n",
    "    \n",
    "#     print((peaks_in_range / length) * 60)\n",
    "\n",
    "#     times_ = np.array(times)\n",
    "    \n",
    "#     times__ = times_[(times_ > 0.75) & (times_ < 4)]\n",
    "\n",
    "#     fft_red = fft[:, 0][(times_ > 0.75) & (times_ < 4)]\n",
    "#     fft_green = fft[:, 1][(times_ > 0.75) & (times_ < 4)]\n",
    "#     fft_blue = fft[:, 2][(times_ > 0.75) & (times_ < 4)]\n",
    "\n",
    "#     bpms.append(times__[np.argmax(fft_red)] * 60)\n",
    "#     bpms.append(times__[np.argmax(fft_green)] * 60)\n",
    "#     print(np.array(bmps[-30:]).mean())\n",
    "    # print(times[np.argmax(fft_blue)] * 60)"
   ]
  },
  {
   "cell_type": "code",
   "execution_count": 146,
   "metadata": {},
   "outputs": [
    {
     "data": {
      "text/html": [
       "<div>\n",
       "<style scoped>\n",
       "    .dataframe tbody tr th:only-of-type {\n",
       "        vertical-align: middle;\n",
       "    }\n",
       "\n",
       "    .dataframe tbody tr th {\n",
       "        vertical-align: top;\n",
       "    }\n",
       "\n",
       "    .dataframe thead th {\n",
       "        text-align: right;\n",
       "    }\n",
       "</style>\n",
       "<table border=\"1\" class=\"dataframe\">\n",
       "  <thead>\n",
       "    <tr style=\"text-align: right;\">\n",
       "      <th></th>\n",
       "      <th>bpm</th>\n",
       "    </tr>\n",
       "  </thead>\n",
       "  <tbody>\n",
       "    <tr>\n",
       "      <th>2</th>\n",
       "      <td>73.210177</td>\n",
       "    </tr>\n",
       "    <tr>\n",
       "      <th>532</th>\n",
       "      <td>84.185578</td>\n",
       "    </tr>\n",
       "    <tr>\n",
       "      <th>788</th>\n",
       "      <td>60.418617</td>\n",
       "    </tr>\n",
       "    <tr>\n",
       "      <th>132</th>\n",
       "      <td>73.083565</td>\n",
       "    </tr>\n",
       "    <tr>\n",
       "      <th>924</th>\n",
       "      <td>74.469018</td>\n",
       "    </tr>\n",
       "    <tr>\n",
       "      <th>...</th>\n",
       "      <td>...</td>\n",
       "    </tr>\n",
       "    <tr>\n",
       "      <th>916</th>\n",
       "      <td>74.895302</td>\n",
       "    </tr>\n",
       "    <tr>\n",
       "      <th>140</th>\n",
       "      <td>78.919125</td>\n",
       "    </tr>\n",
       "    <tr>\n",
       "      <th>560</th>\n",
       "      <td>82.312961</td>\n",
       "    </tr>\n",
       "    <tr>\n",
       "      <th>938</th>\n",
       "      <td>77.959344</td>\n",
       "    </tr>\n",
       "    <tr>\n",
       "      <th>688</th>\n",
       "      <td>70.706606</td>\n",
       "    </tr>\n",
       "  </tbody>\n",
       "</table>\n",
       "<p>184 rows × 1 columns</p>\n",
       "</div>"
      ],
      "text/plain": [
       "           bpm\n",
       "2    73.210177\n",
       "532  84.185578\n",
       "788  60.418617\n",
       "132  73.083565\n",
       "924  74.469018\n",
       "..         ...\n",
       "916  74.895302\n",
       "140  78.919125\n",
       "560  82.312961\n",
       "938  77.959344\n",
       "688  70.706606\n",
       "\n",
       "[184 rows x 1 columns]"
      ]
     },
     "execution_count": 146,
     "metadata": {},
     "output_type": "execute_result"
    }
   ],
   "source": [
    "df = pd.read_csv(\"./bpm_dataset.csv\", index_col=0)\n",
    "df"
   ]
  },
  {
   "cell_type": "code",
   "execution_count": 147,
   "metadata": {
    "scrolled": false
   },
   "outputs": [],
   "source": [
    "bpm_counting_column = []\n",
    "bpm_max_column = []\n",
    "sessions = []\n",
    "for session in df.index:\n",
    "    \n",
    "    if not os.path.exists(\"./dataset/{}/{}.npy\".format(session, session)):\n",
    "        continue\n",
    "    \n",
    "    channel_means = np.load(\"./dataset/{}/{}.npy\".format(session, session))\n",
    "    \n",
    "    \n",
    "    fps = 60\n",
    "    times = np.linspace(0, len(channel_means) / fps, len(channel_means))\n",
    "    \n",
    "    bpm_counting, bpm_max = process(channel_means[:, 1], times)\n",
    "    \n",
    "    sessions.append(session)\n",
    "    bpm_counting_column.append(bpm_counting)\n",
    "    bpm_max_column.append(bpm_max)\n",
    "    "
   ]
  },
  {
   "cell_type": "code",
   "execution_count": 150,
   "metadata": {},
   "outputs": [],
   "source": [
    "df_processed = df[df.index.isin(sessions)]"
   ]
  },
  {
   "cell_type": "code",
   "execution_count": 151,
   "metadata": {},
   "outputs": [
    {
     "name": "stderr",
     "output_type": "stream",
     "text": [
      "<ipython-input-151-d4491640941e>:1: SettingWithCopyWarning: \n",
      "A value is trying to be set on a copy of a slice from a DataFrame.\n",
      "Try using .loc[row_indexer,col_indexer] = value instead\n",
      "\n",
      "See the caveats in the documentation: https://pandas.pydata.org/pandas-docs/stable/user_guide/indexing.html#returning-a-view-versus-a-copy\n",
      "  df_processed[\"bpm max\"] = bpm_max_column\n",
      "<ipython-input-151-d4491640941e>:2: SettingWithCopyWarning: \n",
      "A value is trying to be set on a copy of a slice from a DataFrame.\n",
      "Try using .loc[row_indexer,col_indexer] = value instead\n",
      "\n",
      "See the caveats in the documentation: https://pandas.pydata.org/pandas-docs/stable/user_guide/indexing.html#returning-a-view-versus-a-copy\n",
      "  df_processed[\"bpm counting\"] = bpm_counting_column\n"
     ]
    },
    {
     "data": {
      "text/html": [
       "<div>\n",
       "<style scoped>\n",
       "    .dataframe tbody tr th:only-of-type {\n",
       "        vertical-align: middle;\n",
       "    }\n",
       "\n",
       "    .dataframe tbody tr th {\n",
       "        vertical-align: top;\n",
       "    }\n",
       "\n",
       "    .dataframe thead th {\n",
       "        text-align: right;\n",
       "    }\n",
       "</style>\n",
       "<table border=\"1\" class=\"dataframe\">\n",
       "  <thead>\n",
       "    <tr style=\"text-align: right;\">\n",
       "      <th></th>\n",
       "      <th>bpm</th>\n",
       "      <th>bpm max</th>\n",
       "      <th>bpm counting</th>\n",
       "    </tr>\n",
       "  </thead>\n",
       "  <tbody>\n",
       "    <tr>\n",
       "      <th>2</th>\n",
       "      <td>73.210177</td>\n",
       "      <td>74.122449</td>\n",
       "      <td>54.995871</td>\n",
       "    </tr>\n",
       "    <tr>\n",
       "      <th>532</th>\n",
       "      <td>84.185578</td>\n",
       "      <td>61.022901</td>\n",
       "      <td>67.083542</td>\n",
       "    </tr>\n",
       "    <tr>\n",
       "      <th>788</th>\n",
       "      <td>60.418617</td>\n",
       "      <td>56.586466</td>\n",
       "      <td>71.722672</td>\n",
       "    </tr>\n",
       "    <tr>\n",
       "      <th>132</th>\n",
       "      <td>73.083565</td>\n",
       "      <td>50.306011</td>\n",
       "      <td>75.847089</td>\n",
       "    </tr>\n",
       "    <tr>\n",
       "      <th>924</th>\n",
       "      <td>74.469018</td>\n",
       "      <td>51.932203</td>\n",
       "      <td>79.095062</td>\n",
       "    </tr>\n",
       "    <tr>\n",
       "      <th>...</th>\n",
       "      <td>...</td>\n",
       "      <td>...</td>\n",
       "      <td>...</td>\n",
       "    </tr>\n",
       "    <tr>\n",
       "      <th>26</th>\n",
       "      <td>68.666707</td>\n",
       "      <td>76.790698</td>\n",
       "      <td>64.840321</td>\n",
       "    </tr>\n",
       "    <tr>\n",
       "      <th>1304</th>\n",
       "      <td>88.533887</td>\n",
       "      <td>75.009174</td>\n",
       "      <td>73.945470</td>\n",
       "    </tr>\n",
       "    <tr>\n",
       "      <th>1338</th>\n",
       "      <td>92.869258</td>\n",
       "      <td>73.956989</td>\n",
       "      <td>70.106089</td>\n",
       "    </tr>\n",
       "    <tr>\n",
       "      <th>1328</th>\n",
       "      <td>88.807166</td>\n",
       "      <td>68.983871</td>\n",
       "      <td>74.053296</td>\n",
       "    </tr>\n",
       "    <tr>\n",
       "      <th>936</th>\n",
       "      <td>77.685535</td>\n",
       "      <td>39.642857</td>\n",
       "      <td>67.006905</td>\n",
       "    </tr>\n",
       "  </tbody>\n",
       "</table>\n",
       "<p>86 rows × 3 columns</p>\n",
       "</div>"
      ],
      "text/plain": [
       "            bpm    bpm max  bpm counting\n",
       "2     73.210177  74.122449     54.995871\n",
       "532   84.185578  61.022901     67.083542\n",
       "788   60.418617  56.586466     71.722672\n",
       "132   73.083565  50.306011     75.847089\n",
       "924   74.469018  51.932203     79.095062\n",
       "...         ...        ...           ...\n",
       "26    68.666707  76.790698     64.840321\n",
       "1304  88.533887  75.009174     73.945470\n",
       "1338  92.869258  73.956989     70.106089\n",
       "1328  88.807166  68.983871     74.053296\n",
       "936   77.685535  39.642857     67.006905\n",
       "\n",
       "[86 rows x 3 columns]"
      ]
     },
     "execution_count": 151,
     "metadata": {},
     "output_type": "execute_result"
    }
   ],
   "source": [
    "df_processed[\"bpm max\"] = bpm_max_column\n",
    "df_processed[\"bpm counting\"] = bpm_counting_column\n",
    "df_processed"
   ]
  },
  {
   "cell_type": "code",
   "execution_count": 152,
   "metadata": {},
   "outputs": [],
   "source": [
    "df_processed.to_csv(\"df_processed.csv\")"
   ]
  },
  {
   "cell_type": "code",
   "execution_count": 154,
   "metadata": {},
   "outputs": [
    {
     "data": {
      "text/html": [
       "<div>\n",
       "<style scoped>\n",
       "    .dataframe tbody tr th:only-of-type {\n",
       "        vertical-align: middle;\n",
       "    }\n",
       "\n",
       "    .dataframe tbody tr th {\n",
       "        vertical-align: top;\n",
       "    }\n",
       "\n",
       "    .dataframe thead th {\n",
       "        text-align: right;\n",
       "    }\n",
       "</style>\n",
       "<table border=\"1\" class=\"dataframe\">\n",
       "  <thead>\n",
       "    <tr style=\"text-align: right;\">\n",
       "      <th></th>\n",
       "      <th>bpm</th>\n",
       "      <th>bpm max</th>\n",
       "      <th>bpm counting</th>\n",
       "    </tr>\n",
       "  </thead>\n",
       "  <tbody>\n",
       "    <tr>\n",
       "      <th>2</th>\n",
       "      <td>73.210177</td>\n",
       "      <td>74.122449</td>\n",
       "      <td>54.995871</td>\n",
       "    </tr>\n",
       "    <tr>\n",
       "      <th>532</th>\n",
       "      <td>84.185578</td>\n",
       "      <td>61.022901</td>\n",
       "      <td>67.083542</td>\n",
       "    </tr>\n",
       "    <tr>\n",
       "      <th>788</th>\n",
       "      <td>60.418617</td>\n",
       "      <td>56.586466</td>\n",
       "      <td>71.722672</td>\n",
       "    </tr>\n",
       "    <tr>\n",
       "      <th>132</th>\n",
       "      <td>73.083565</td>\n",
       "      <td>50.306011</td>\n",
       "      <td>75.847089</td>\n",
       "    </tr>\n",
       "    <tr>\n",
       "      <th>924</th>\n",
       "      <td>74.469018</td>\n",
       "      <td>51.932203</td>\n",
       "      <td>79.095062</td>\n",
       "    </tr>\n",
       "    <tr>\n",
       "      <th>...</th>\n",
       "      <td>...</td>\n",
       "      <td>...</td>\n",
       "      <td>...</td>\n",
       "    </tr>\n",
       "    <tr>\n",
       "      <th>26</th>\n",
       "      <td>68.666707</td>\n",
       "      <td>76.790698</td>\n",
       "      <td>64.840321</td>\n",
       "    </tr>\n",
       "    <tr>\n",
       "      <th>1304</th>\n",
       "      <td>88.533887</td>\n",
       "      <td>75.009174</td>\n",
       "      <td>73.945470</td>\n",
       "    </tr>\n",
       "    <tr>\n",
       "      <th>1338</th>\n",
       "      <td>92.869258</td>\n",
       "      <td>73.956989</td>\n",
       "      <td>70.106089</td>\n",
       "    </tr>\n",
       "    <tr>\n",
       "      <th>1328</th>\n",
       "      <td>88.807166</td>\n",
       "      <td>68.983871</td>\n",
       "      <td>74.053296</td>\n",
       "    </tr>\n",
       "    <tr>\n",
       "      <th>936</th>\n",
       "      <td>77.685535</td>\n",
       "      <td>39.642857</td>\n",
       "      <td>67.006905</td>\n",
       "    </tr>\n",
       "  </tbody>\n",
       "</table>\n",
       "<p>86 rows × 3 columns</p>\n",
       "</div>"
      ],
      "text/plain": [
       "            bpm    bpm max  bpm counting\n",
       "2     73.210177  74.122449     54.995871\n",
       "532   84.185578  61.022901     67.083542\n",
       "788   60.418617  56.586466     71.722672\n",
       "132   73.083565  50.306011     75.847089\n",
       "924   74.469018  51.932203     79.095062\n",
       "...         ...        ...           ...\n",
       "26    68.666707  76.790698     64.840321\n",
       "1304  88.533887  75.009174     73.945470\n",
       "1338  92.869258  73.956989     70.106089\n",
       "1328  88.807166  68.983871     74.053296\n",
       "936   77.685535  39.642857     67.006905\n",
       "\n",
       "[86 rows x 3 columns]"
      ]
     },
     "execution_count": 154,
     "metadata": {},
     "output_type": "execute_result"
    }
   ],
   "source": [
    "df_processed"
   ]
  },
  {
   "cell_type": "code",
   "execution_count": 155,
   "metadata": {},
   "outputs": [],
   "source": [
    "def outlier(row):\n",
    "    row[\"outlier\"] = (abs(row[\"bpm\"] - row[\"bpm max\"])) > 10\n",
    "    \n",
    "    return row\n",
    "\n",
    "df_processed = df_processed.apply(outlier, axis=1)"
   ]
  },
  {
   "cell_type": "code",
   "execution_count": 160,
   "metadata": {},
   "outputs": [],
   "source": [
    "df_inlier = df_processed[df_processed[\"outlier\"] == 0.0]"
   ]
  },
  {
   "cell_type": "code",
   "execution_count": 221,
   "metadata": {},
   "outputs": [
    {
     "data": {
      "text/plain": [
       "Text(0, 0.5, 'predicted')"
      ]
     },
     "execution_count": 221,
     "metadata": {},
     "output_type": "execute_result"
    },
    {
     "data": {
      "image/png": "[encoded data removed]",
      "text/plain": [
       "<Figure size 432x288 with 1 Axes>"
      ]
     },
     "metadata": {},
     "output_type": "display_data"
    }
   ],
   "source": [
    "plt.scatter(df_inlier[\"bpm\"], df_inlier[\"bpm max\"], alpha=1, s=12)\n",
    "plt.plot([50, 90], [50, 90], ls=\"--\", c='black', alpha=0.3)\n",
    "plt.xlabel(\"actual\")\n",
    "plt.ylabel(\"predicted\")"
   ]
  },
  {
   "cell_type": "code",
   "execution_count": 220,
   "metadata": {},
   "outputs": [
    {
     "data": {
      "text/plain": [
       "5.064088819973432"
      ]
     },
     "execution_count": 220,
     "metadata": {},
     "output_type": "execute_result"
    }
   ],
   "source": [
    "np.sqrt(np.mean((df_inlier[\"bpm\"] - df_inlier[\"bpm max\"] ) ** 2))"
   ]
  },
  {
   "cell_type": "code",
   "execution_count": null,
   "metadata": {},
   "outputs": [],
   "source": []
  }
 ],
 "metadata": {
  "kernelspec": {
   "display_name": "Python 3",
   "language": "python",
   "name": "python3"
  },
  "language_info": {
   "codemirror_mode": {
    "name": "ipython",
    "version": 3
   },
   "file_extension": ".py",
   "mimetype": "text/x-python",
   "name": "python",
   "nbconvert_exporter": "python",
   "pygments_lexer": "ipython3",
   "version": "3.8.10"
  }
 },
 "nbformat": 4,
 "nbformat_minor": 2
}
