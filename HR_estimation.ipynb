{
 "cells": [
  {
   "cell_type": "code",
   "execution_count": 2,
   "metadata": {},
   "outputs": [
    {
     "name": "stdout",
     "output_type": "stream",
     "text": [
      "Requirement already satisfied: opencv-python in /home/pouya/.local/lib/python3.8/site-packages (4.5.3.56)\n",
      "Requirement already satisfied: numpy>=1.17.3 in /usr/lib/python3/dist-packages (from opencv-python) (1.17.4)\n",
      "Requirement already satisfied: imutils in /home/pouya/.local/lib/python3.8/site-packages (0.5.4)\n",
      "Requirement already satisfied: scipy in /home/pouya/.local/lib/python3.8/site-packages (1.6.0)\n",
      "Requirement already satisfied: numpy>=1.16.5 in /usr/lib/python3/dist-packages (from scipy) (1.17.4)\n",
      "Collecting kivymd\n",
      "  Downloading kivymd-0.104.2-py3-none-any.whl (2.3 MB)\n",
      "\u001b[K     |████████████████████████████████| 2.3 MB 183 kB/s eta 0:00:01\n",
      "\u001b[?25hRequirement already satisfied: pillow in /usr/lib/python3/dist-packages (from kivymd) (7.0.0)\n",
      "Collecting kivy>=2.0.0\n",
      "  Downloading Kivy-2.0.0-cp38-cp38-manylinux2010_x86_64.whl (22.2 MB)\n",
      "\u001b[K     |████████████████████████████████| 22.2 MB 115 kB/s eta 0:00:01\n",
      "\u001b[?25hCollecting Kivy-Garden>=0.1.4\n",
      "  Using cached kivy-garden-0.1.4.tar.gz (6.8 kB)\n",
      "Collecting docutils\n",
      "  Downloading docutils-0.17.1-py2.py3-none-any.whl (575 kB)\n",
      "\u001b[K     |████████████████████████████████| 575 kB 130 kB/s eta 0:00:01\n",
      "\u001b[?25hRequirement already satisfied: pygments in /usr/lib/python3/dist-packages (from kivy>=2.0.0->kivymd) (2.3.1)\n",
      "Requirement already satisfied: requests in /usr/lib/python3/dist-packages (from Kivy-Garden>=0.1.4->kivy>=2.0.0->kivymd) (2.22.0)\n",
      "Building wheels for collected packages: Kivy-Garden\n",
      "  Building wheel for Kivy-Garden (setup.py) ... \u001b[?25ldone\n",
      "\u001b[?25h  Created wheel for Kivy-Garden: filename=Kivy_Garden-0.1.4-py3-none-any.whl size=4531 sha256=16b6d8bd3c63774dbc6c8a6f4ba33808b1f2aac529659bc284846bc7480bc181\n",
      "  Stored in directory: /home/pouya/.cache/pip/wheels/d2/72/1a/9ddd17f00755707937caa350616965fb3330a6270425f397e6\n",
      "Successfully built Kivy-Garden\n",
      "Installing collected packages: Kivy-Garden, docutils, kivy, kivymd\n",
      "Successfully installed Kivy-Garden-0.1.4 docutils-0.17.1 kivy-2.0.0 kivymd-0.104.2\n"
     ]
    }
   ],
   "source": [
    "!python3 -m pip install opencv-python\n",
    "!python3 -m pip install imutils\n",
    "!python3 -m pip install scipy\n",
    "!python3 -m pip install kivymd"
   ]
  },
  {
   "cell_type": "code",
   "execution_count": 7,
   "metadata": {},
   "outputs": [],
   "source": [
    "import cv2\n",
    "import dlib\n",
    "from imutils import face_utils\n",
    "import numpy as np\n",
    "from scipy import signal\n",
    "import matplotlib.pyplot as plt\n",
    "from sklearn.decomposition import FastICA\n",
    "import time"
   ]
  },
  {
   "cell_type": "code",
   "execution_count": 8,
   "metadata": {},
   "outputs": [],
   "source": [
    "detector = dlib.get_frontal_face_detector()\n",
    "predictor = dlib.shape_predictor(\"shape_predictor_68_face_landmarks.dat\")\n",
    "# fa = face_utils.FaceAligner(predictor, desiredFaceWidth=256)"
   ]
  },
  {
   "cell_type": "code",
   "execution_count": 245,
   "metadata": {},
   "outputs": [],
   "source": [
    "# implementing Realt Time Heart Rate Monitoring From Facial RGB Color Video Using Webcam H.Rahman, M.U Ahmed\n",
    "\n",
    "def process(data_buffer, times):\n",
    "    \n",
    "    \n",
    "    \"\"\"\n",
    "    Detrending\n",
    "    Remove unwanted trend from series\n",
    "    the collected RGB signals will be drfting and noising\n",
    "    \n",
    "    \"\"\"\n",
    "    data_buffer = signal.detrend(data_buffer, axis=0)\n",
    "    \n",
    "    \n",
    "    # Filtering\n",
    "    filter_ = np.hamming(len(data_buffer)) * 1.4 + 0.6\n",
    "#     filter_ = filter_.reshape(128, 1)\n",
    "    x_filtered = filter_ * data_buffer\n",
    "    \n",
    "    # Normalization\n",
    "#     data_buffer_normalized = (x_filtered - x_filtered.mean()) \\\n",
    "#                                     / x_filtered.std()\n",
    "    \n",
    "    \n",
    "    data_buffer_normalized = x_filtered / np.linalg.norm(x_filtered)\n",
    "    \n",
    "#     plt.plot(data_buffer_normalized)\n",
    "    \n",
    "    fft = np.fft.fft(data_buffer_normalized * 5)\n",
    "    fft = np.abs(fft) ** 2\n",
    "    \n",
    "    times_ = np.array(times)\n",
    "    \n",
    "    selected_freq = (times_ > 0) & (times_ < 4)\n",
    "    times_ = times_[selected_freq]\n",
    "    \n",
    "    plt.plot(times_, fft[selected_freq][:])\n",
    "\n",
    "#     plt.plot(times, fft)\n",
    "#     print(len(signal.find_peaks(fft[selected_freq][:])[0]))\n",
    "    \n",
    "    bpm = len(signal.find_peaks(fft[selected_freq][:])[0]) / (times[-1] - times[0]) * 60\n",
    "#     bpm = len(signal.find_peaks(fft)[0]) / (times[-1] - times[0]) * 60\n",
    "    \n",
    "    print(bpm)"
   ]
  },
  {
   "cell_type": "code",
   "execution_count": 246,
   "metadata": {},
   "outputs": [
    {
     "name": "stdout",
     "output_type": "stream",
     "text": [
      "83.36666666666667\n"
     ]
    },
    {
     "data": {
      "image/png": "[encoded data removed]",
      "text/plain": [
       "<Figure size 432x288 with 1 Axes>"
      ]
     },
     "metadata": {
      "needs_background": "light"
     },
     "output_type": "display_data"
    }
   ],
   "source": [
    "times = np.linspace(0, len(channel_means) / fps, len(channel_means))\n",
    "process(channel_means[:, 1], times)"
   ]
  },
  {
   "cell_type": "code",
   "execution_count": 6,
   "metadata": {},
   "outputs": [],
   "source": [
    "# Measuring Heart Rate From Video Isabel Bush Stanford\n",
    "\n",
    "# def process1(data_buffer):\n",
    "    \n",
    "#     length = times[-1] - times[0]\n",
    "\n",
    "#     fps = len(data_buffer) / length\n",
    "    \n",
    "#     detrend = signal.detrend(data_buffer.mean(axis=1))\n",
    "\n",
    "#     normalized = (detrend - detrend.mean()) / detrend.std() \n",
    "\n",
    "#     filtered = (np.hamming(buffer_size) * 1.4 + 0.6) * normalized \n",
    "\n",
    "#     fft = np.fft.rfft(filtered)\n",
    "    \n",
    "# #     plt.plot(fft)\n",
    "    \n",
    "#     peaks_index = signal.find_peaks(fft)[0] \n",
    "    \n",
    "#     peaks_in_range = np.sum((fft[peaks_index] > 0.75) & (fft[peaks_index] < 4)) \n",
    "    \n",
    "#     print((peaks_in_range / length) * 60)\n",
    "\n",
    "#     times_ = np.array(times)\n",
    "    \n",
    "#     times__ = times_[(times_ > 0.75) & (times_ < 4)]\n",
    "\n",
    "#     fft_red = fft[:, 0][(times_ > 0.75) & (times_ < 4)]\n",
    "#     fft_green = fft[:, 1][(times_ > 0.75) & (times_ < 4)]\n",
    "#     fft_blue = fft[:, 2][(times_ > 0.75) & (times_ < 4)]\n",
    "\n",
    "#     bpms.append(times__[np.argmax(fft_red)] * 60)\n",
    "#     bpms.append(times__[np.argmax(fft_green)] * 60)\n",
    "#     print(np.array(bmps[-30:]).mean())\n",
    "    # print(times[np.argmax(fft_blue)] * 60)"
   ]
  },
  {
   "cell_type": "code",
   "execution_count": 86,
   "metadata": {},
   "outputs": [],
   "source": [
    "# cv2.namedWindow(\"preview\")\n",
    "# vc = cv2.VideoCapture(\"dataset/16/P1-Rec1-2009.07.09.17.53.46_C1 trigger _C_Section_16.avi\")\n",
    "\n",
    "# data_buffer = []\n",
    "# # times = []\n",
    "# bpms = []\n",
    "# buffer_size = 128\n",
    "\n",
    "# t0 = time.time()\n",
    "\n",
    "# if vc.isOpened():\n",
    "#     rval, frame = vc.read()\n",
    "# else:\n",
    "#     rval = False\n",
    "    \n",
    "# while rval:\n",
    "#     cv2.imshow(\"preview\", frame)\n",
    "#     rval, frame = vc.read()\n",
    "#     key = cv2.waitKey(20)\n",
    "    \n",
    "#     gray = cv2.cvtColor(frame, cv2.COLOR_BGR2GRAY)\n",
    "#     rects = detector(gray, 0)\n",
    "    \n",
    "#     if len(rects) > 0:\n",
    "        \n",
    "#         (x, y, w, h) = face_utils.rect_to_bb(rects[0])\n",
    "        \n",
    "#         cv2.rectangle(frame, (x, y), (x + w, y + h), (255, 0, 0), 2)\n",
    "        \n",
    "#         face_frame = frame[y: y + h, x: x + w]\n",
    "        \n",
    "        \n",
    "#         grayf = cv2.cvtColor(face_frame, cv2.COLOR_BGR2GRAY)\n",
    "#         shape = predictor(grayf, rects[0])\n",
    "#         shape = face_utils.shape_to_np(shape)\n",
    "        \n",
    "#         cv2.rectangle(frame,(shape[54][0], shape[29][1]), #draw rectangle on right and left cheeks\n",
    "#                         (shape[12][0],shape[33][1]), (0,50,50), 0)\n",
    "        \n",
    "#         cv2.rectangle(frame, (shape[4][0], shape[29][1]), \n",
    "#                         (shape[48][0],shape[33][1]), (0,255,0), 0)\n",
    "        \n",
    "        \n",
    "# #         for (a, b) in shape:\n",
    "# #             cv2.circle(frame, (a, b), 1, (0, 0, 255), -1) #draw facial landmarks\n",
    "        \n",
    "# #         for (a,b) in [(shape[18][0], shape[18][1]), (shape[25][0], shape[25][1] - 10)]:\n",
    "# #             cv2.circle(frame, (a, b), 1, (0, 0, 255), -1)\n",
    "        \n",
    "# #         forehead = {\n",
    "# #             \"upper_x\": shape[18][0], \n",
    "# #             \"upper_y\": shape[18][1] - int(0.25 * h),\n",
    "# #             \"lower_x\": shape[25][0],\n",
    "# #             \"lower_y\": shape[25][1] - 20}\n",
    "        \n",
    "# #         cv2.rectangle(frame, (forehead[\"upper_x\"], forehead[\"upper_y\"]), (forehead[\"lower_x\"], forehead[\"lower_y\"]), (0, 50, 50), 0) \n",
    "    \n",
    "    \n",
    "#         ROI1 = frame[shape[29][1]:shape[33][1], shape[54][0]: shape[12][0]] # right chin\n",
    "# #         ROI2 = frame[forehead[\"upper_y\"]: forehead[\"lower_y\"], forehead[\"upper_x\"]: forehead[\"lower_x\"]]\n",
    "        \n",
    "# #         ROI2 = frame[shape[29][1]: shape[33][1], shape[4][0]:shape[48][0]]\n",
    "        \n",
    "# #         print(ROI1 + ROI2 / 2)\n",
    "        \n",
    "#         mean = ROI1.mean(axis=(0, 1))\n",
    "        \n",
    "#         g = mean[1]\n",
    "        \n",
    "#         if (abs(mean[1] - np.mean(data_buffer)) > 10) and (len(data_buffer) > 99):\n",
    "#            g = data_buffer[-1]\n",
    "        \n",
    "#         data_buffer.append(g)\n",
    "        \n",
    "# #         times.append(time.time() - t0)\n",
    "        \n",
    "        \n",
    "#         if len(data_buffer) > 128 :\n",
    "            \n",
    "#             data_buffer = data_buffer[-buffer_size:]\n",
    "            \n",
    "# #             times = times[-buffer_size:]\n",
    "            \n",
    "# #             times[1:] = times[1:] - times[0]\n",
    "            \n",
    "#             process(np.array(data_buffer), times, bpms)\n",
    "        \n",
    "        \n",
    "#     else:\n",
    "#         cv2.putText(frame, \"No FACE DETECTED\", (65, 220), cv2.FONT_HERSHEY_PLAIN, 2, (0, 256, 256))\n",
    "    \n",
    "    \n",
    "#     if key == 27: # Exit on Escape\n",
    "#         break\n",
    "# cv2.destroyWindow(\"preview\")\n",
    "# waitKey(1)"
   ]
  },
  {
   "cell_type": "code",
   "execution_count": 204,
   "metadata": {},
   "outputs": [
    {
     "name": "stdout",
     "output_type": "stream",
     "text": [
      "61.0\n"
     ]
    }
   ],
   "source": [
    "import cv2\n",
    "import numpy as np\n",
    "\n",
    "cap = cv2.VideoCapture(\"./dataset/532/P5-Rec1-2009.07.22.12.05.44_C1 trigger _C_Section_12.avi\")\n",
    "frameCount = int(cap.get(cv2.CAP_PROP_FRAME_COUNT))\n",
    "frameWidth = int(cap.get(cv2.CAP_PROP_FRAME_WIDTH))\n",
    "frameHeight = int(cap.get(cv2.CAP_PROP_FRAME_HEIGHT))\n",
    "\n",
    "buf = np.empty((frameCount, frameHeight, frameWidth, 3), np.dtype('uint8'))\n",
    "\n",
    "fc = 0\n",
    "ret = True\n",
    "\n",
    "while (fc < frameCount  and ret):\n",
    "    ret, buf[fc] = cap.read()\n",
    "    fc += 1\n",
    "\n",
    "\n",
    "fps = cap.get(cv2.CAP_PROP_FPS)\n",
    "    \n",
    "cap.release()\n",
    "\n",
    "# cv2.waitKey(0)"
   ]
  },
  {
   "cell_type": "code",
   "execution_count": 162,
   "metadata": {},
   "outputs": [],
   "source": [
    "def get_ROI(video_buffer):\n",
    "    \n",
    "    ROI = np.zeros((video_buffer.shape[0], 10, 10, 3))\n",
    "    \n",
    "    data_buffer = []\n",
    "#     times = []\n",
    "    bpms = []\n",
    "#     buffer_size = 128\n",
    "    \n",
    "    for frame_number, frame in enumerate(video_buffer):\n",
    "        \n",
    "        gray = cv2.cvtColor(frame, cv2.COLOR_BGR2GRAY)\n",
    "        \n",
    "        rects = detector(gray, 0)\n",
    "        \n",
    "        if len(rects) > 0:\n",
    "            \n",
    "            # converting opencv Rectangle object to tuple\n",
    "            (x, y, w, h) = face_utils.rect_to_bb(rects[0])\n",
    "            \n",
    "            # drawing face bounding box on screen\n",
    "            cv2.rectangle(frame, (x, y), (x + w, y + h), (255, 0, 0), 2)\n",
    "             \n",
    "            face_frame = frame[y: y + h, x: x + w]\n",
    "            \n",
    "\n",
    "            grayf = cv2.cvtColor(face_frame, cv2.COLOR_BGR2GRAY)\n",
    "            shape = predictor(grayf, rects[0])\n",
    "            shape = face_utils.shape_to_np(shape)\n",
    "            \n",
    "            ROI1_detected = frame[shape[29][1]:shape[33][1], shape[54][0]: shape[12][0]]\n",
    "            \n",
    "            \n",
    "            y_start, y_end = ROI1_detected.shape[0] // 2 - 5, ROI1_detected.shape[0] // 2 + 5\n",
    "            x_start, x_end = ROI1_detected.shape[1] // 2 - 5, ROI1_detected.shape[1] // 2 + 5\n",
    "            \n",
    "\n",
    "            ROI1_selected = ROI1_detected[y_start: y_end, x_start: x_end]\n",
    "            \n",
    "            ROI[frame_number] = ROI1_selected\n",
    "            \n",
    "    return ROI.mean(axis=(1, 2))"
   ]
  },
  {
   "cell_type": "code",
   "execution_count": 233,
   "metadata": {},
   "outputs": [],
   "source": [
    "channel_means = get_ROI(buf[0:60 * 60])"
   ]
  },
  {
   "cell_type": "code",
   "execution_count": 234,
   "metadata": {},
   "outputs": [
    {
     "data": {
      "text/plain": [
       "[<matplotlib.lines.Line2D at 0x7f6599a28430>]"
      ]
     },
     "execution_count": 234,
     "metadata": {},
     "output_type": "execute_result"
    },
    {
     "data": {
      "image/png": "[encoded data removed]",
      "text/plain": [
       "<Figure size 432x288 with 1 Axes>"
      ]
     },
     "metadata": {
      "needs_background": "light"
     },
     "output_type": "display_data"
    }
   ],
   "source": [
    "plt.plot(channel_means[:, 2])"
   ]
  },
  {
   "cell_type": "code",
   "execution_count": null,
   "metadata": {},
   "outputs": [],
   "source": []
  }
 ],
 "metadata": {
  "kernelspec": {
   "display_name": "Python 3",
   "language": "python",
   "name": "python3"
  },
  "language_info": {
   "codemirror_mode": {
    "name": "ipython",
    "version": 3
   },
   "file_extension": ".py",
   "mimetype": "text/x-python",
   "name": "python",
   "nbconvert_exporter": "python",
   "pygments_lexer": "ipython3",
   "version": "3.8.10"
  }
 },
 "nbformat": 4,
 "nbformat_minor": 2
}
