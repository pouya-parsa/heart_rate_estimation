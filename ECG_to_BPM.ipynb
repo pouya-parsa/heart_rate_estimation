{
 "cells": [
  {
   "cell_type": "code",
   "execution_count": 8,
   "metadata": {
    "colab": {
     "base_uri": "https://localhost:8080/"
    },
    "id": "oYFdv6GIE9do",
    "outputId": "6187fe11-9807-4f5b-a98c-48c80566fe06"
   },
   "outputs": [],
   "source": [
    "!python3 -m pip install pyedflib # BDF Format into Numpy\n",
    "!python3 -m pip install heartpy # Convert ECG signal to BPM"
   ]
  },
  {
   "cell_type": "code",
   "execution_count": 41,
   "metadata": {
    "id": "NJxGHb9vE2aj"
   },
   "outputs": [],
   "source": [
    "import pyedflib\n",
    "import numpy as np\n",
    "import matplotlib.pyplot as plt\n",
    "import heartpy as hp\n",
    "import glob\n",
    "import pandas as pd\n",
    "import os"
   ]
  },
  {
   "cell_type": "code",
   "execution_count": 10,
   "metadata": {
    "id": "zg-Zz3-UFJzK"
   },
   "outputs": [
    {
     "name": "stdout",
     "output_type": "stream",
     "text": [
      "(47, 34048)\n"
     ]
    }
   ],
   "source": [
    "f = pyedflib.EdfReader(\"./dataset/1046/Part_9_S_Trial3_emotion.bdf\")\n",
    "n = f.signals_in_file\n",
    "signal_labels = f.getSignalLabels()\n",
    "sigbufs = np.zeros((n, f.getNSamples()[0]))\n",
    "for i in np.arange(n):\n",
    "        sigbufs[i, :] = f.readSignal(i)\n",
    "\n",
    "print(sigbufs.shape)"
   ]
  },
  {
   "cell_type": "code",
   "execution_count": 11,
   "metadata": {
    "colab": {
     "base_uri": "https://localhost:8080/",
     "height": 265
    },
    "id": "yFbD47LjK9LH",
    "outputId": "5beb82e0-4c9c-45bd-9789-83ded6d15c92"
   },
   "outputs": [
    {
     "data": {
      "text/plain": [
       "[<matplotlib.lines.Line2D at 0x7f377f95cd30>]"
      ]
     },
     "execution_count": 11,
     "metadata": {},
     "output_type": "execute_result"
    },
    {
     "data": {
      "image/png": "[encoded data removed]",
      "text/plain": [
       "<Figure size 432x288 with 1 Axes>"
      ]
     },
     "metadata": {
      "needs_background": "light"
     },
     "output_type": "display_data"
    }
   ],
   "source": [
    "plt.figure()\n",
    "data = sigbufs[34][:256*30]\n",
    "plt.plot(data)"
   ]
  },
  {
   "cell_type": "code",
   "execution_count": 12,
   "metadata": {
    "collapsed": true,
    "id": "9EBIz95DP2m0"
   },
   "outputs": [
    {
     "ename": "BadSignalWarning",
     "evalue": "\n----------------\nCould not determine best fit for given signal. Please check the source signal.\n Probable causes:\n- detected heart rate falls outside of bpmmin<->bpmmax constraints\n- no detectable heart rate present in signal\n- very noisy signal (consider filtering and scaling)\nIf you're sure the signal contains heartrate data, consider filtering and/or scaling first.\n----------------\n",
     "output_type": "error",
     "traceback": [
      "\u001b[0;31m---------------------------------------------------------------------------\u001b[0m",
      "\u001b[0;31mBadSignalWarning\u001b[0m                          Traceback (most recent call last)",
      "\u001b[0;32m<ipython-input-12-c74f0f9e21c3>\u001b[0m in \u001b[0;36m<module>\u001b[0;34m\u001b[0m\n\u001b[0;32m----> 1\u001b[0;31m \u001b[0mwd\u001b[0m\u001b[0;34m,\u001b[0m \u001b[0mm\u001b[0m \u001b[0;34m=\u001b[0m \u001b[0mhp\u001b[0m\u001b[0;34m.\u001b[0m\u001b[0mprocess\u001b[0m\u001b[0;34m(\u001b[0m\u001b[0mdata\u001b[0m\u001b[0;34m,\u001b[0m \u001b[0msample_rate\u001b[0m \u001b[0;34m=\u001b[0m \u001b[0;36m256.0\u001b[0m\u001b[0;34m)\u001b[0m\u001b[0;34m\u001b[0m\u001b[0;34m\u001b[0m\u001b[0m\n\u001b[0m",
      "\u001b[0;32m~/.local/lib/python3.8/site-packages/heartpy/heartpy.py\u001b[0m in \u001b[0;36mprocess\u001b[0;34m(hrdata, sample_rate, windowsize, report_time, calc_freq, freq_method, welch_wsize, freq_square, interp_clipping, clipping_scale, interp_threshold, hampel_correct, bpmmin, bpmmax, reject_segmentwise, high_precision, high_precision_fs, breathing_method, clean_rr, clean_rr_method, measures, working_data)\u001b[0m\n\u001b[1;32m    287\u001b[0m     \u001b[0mrol_mean\u001b[0m \u001b[0;34m=\u001b[0m \u001b[0mrolling_mean\u001b[0m\u001b[0;34m(\u001b[0m\u001b[0mhrdata\u001b[0m\u001b[0;34m,\u001b[0m \u001b[0mwindowsize\u001b[0m\u001b[0;34m,\u001b[0m \u001b[0msample_rate\u001b[0m\u001b[0;34m)\u001b[0m\u001b[0;34m\u001b[0m\u001b[0;34m\u001b[0m\u001b[0m\n\u001b[1;32m    288\u001b[0m \u001b[0;34m\u001b[0m\u001b[0m\n\u001b[0;32m--> 289\u001b[0;31m     working_data = fit_peaks(hrdata, rol_mean, sample_rate, bpmmin=bpmmin,\n\u001b[0m\u001b[1;32m    290\u001b[0m                              bpmmax=bpmmax, working_data=working_data)\n\u001b[1;32m    291\u001b[0m \u001b[0;34m\u001b[0m\u001b[0m\n",
      "\u001b[0;32m~/.local/lib/python3.8/site-packages/heartpy/peakdetection.py\u001b[0m in \u001b[0;36mfit_peaks\u001b[0;34m(hrdata, rol_mean, sample_rate, bpmmin, bpmmax, working_data)\u001b[0m\n\u001b[1;32m    303\u001b[0m         \u001b[0;32mreturn\u001b[0m \u001b[0mworking_data\u001b[0m\u001b[0;34m\u001b[0m\u001b[0;34m\u001b[0m\u001b[0m\n\u001b[1;32m    304\u001b[0m     \u001b[0;32melse\u001b[0m\u001b[0;34m:\u001b[0m\u001b[0;34m\u001b[0m\u001b[0;34m\u001b[0m\u001b[0m\n\u001b[0;32m--> 305\u001b[0;31m         raise BadSignalWarning('\\n----------------\\nCould not determine best fit for \\\n\u001b[0m\u001b[1;32m    306\u001b[0m \u001b[0mgiven\u001b[0m \u001b[0msignal\u001b[0m\u001b[0;34m.\u001b[0m \u001b[0mPlease\u001b[0m \u001b[0mcheck\u001b[0m \u001b[0mthe\u001b[0m \u001b[0msource\u001b[0m \u001b[0msignal\u001b[0m\u001b[0;34m.\u001b[0m\u001b[0;31m\\\u001b[0m\u001b[0mn\u001b[0m \u001b[0mProbable\u001b[0m \u001b[0mcauses\u001b[0m\u001b[0;34m:\u001b[0m\u001b[0;31m\\\u001b[0m\u001b[0mn\u001b[0m\u001b[0;34m-\u001b[0m \u001b[0mdetected\u001b[0m \u001b[0mheart\u001b[0m \u001b[0mrate\u001b[0m \u001b[0mfalls\u001b[0m\u001b[0;31m \u001b[0m\u001b[0;31m\\\u001b[0m\u001b[0;34m\u001b[0m\u001b[0;34m\u001b[0m\u001b[0m\n\u001b[1;32m    307\u001b[0m \u001b[0moutside\u001b[0m \u001b[0mof\u001b[0m \u001b[0mbpmmin\u001b[0m\u001b[0;34m<\u001b[0m\u001b[0;34m->\u001b[0m\u001b[0mbpmmax\u001b[0m \u001b[0mconstraints\u001b[0m\u001b[0;31m\\\u001b[0m\u001b[0mn\u001b[0m\u001b[0;34m-\u001b[0m \u001b[0mno\u001b[0m \u001b[0mdetectable\u001b[0m \u001b[0mheart\u001b[0m \u001b[0mrate\u001b[0m \u001b[0mpresent\u001b[0m \u001b[0;32min\u001b[0m \u001b[0msignal\u001b[0m\u001b[0;31m\\\u001b[0m\u001b[0mn\u001b[0m\u001b[0;31m\\\u001b[0m\u001b[0;34m\u001b[0m\u001b[0;34m\u001b[0m\u001b[0m\n",
      "\u001b[0;31mBadSignalWarning\u001b[0m: \n----------------\nCould not determine best fit for given signal. Please check the source signal.\n Probable causes:\n- detected heart rate falls outside of bpmmin<->bpmmax constraints\n- no detectable heart rate present in signal\n- very noisy signal (consider filtering and scaling)\nIf you're sure the signal contains heartrate data, consider filtering and/or scaling first.\n----------------\n"
     ]
    }
   ],
   "source": [
    "wd, m = hp.process(data, sample_rate = 256.0)"
   ]
  },
  {
   "cell_type": "code",
   "execution_count": 30,
   "metadata": {
    "colab": {
     "base_uri": "https://localhost:8080/",
     "height": 533
    },
    "id": "eo14HuSUP-cP",
    "outputId": "d4db6676-e495-4e72-ea8a-fa3a21998c5b"
   },
   "outputs": [
    {
     "name": "stdout",
     "output_type": "stream",
     "text": [
      "bpm: 145.963366\n",
      "ibi: 411.062047\n",
      "sdnn: 156.590922\n",
      "sdsd: 72.102923\n",
      "rmssd: 304.429141\n",
      "pnn20: 1.000000\n",
      "pnn50: 1.000000\n",
      "hr_mad: 23.437500\n",
      "sd1: 215.229764\n",
      "sd2: 50.882091\n",
      "s: 34404.650762\n",
      "sd1/sd2: 4.229971\n",
      "breathingrate: 0.211812\n"
     ]
    },
    {
     "name": "stderr",
     "output_type": "stream",
     "text": [
      "/home/pouya/.local/lib/python3.8/site-packages/heartpy/visualizeutils.py:119: UserWarning: Matplotlib is currently using module://ipykernel.pylab.backend_inline, which is a non-GUI backend, so cannot show the figure.\n",
      "  fig.show()\n"
     ]
    },
    {
     "data": {
      "text/plain": [
       "<Figure size 864x288 with 0 Axes>"
      ]
     },
     "metadata": {},
     "output_type": "display_data"
    },
    {
     "data": {
      "image/png": "[encoded data removed]",
      "text/plain": [
       "<Figure size 432x288 with 1 Axes>"
      ]
     },
     "metadata": {
      "needs_background": "light"
     },
     "output_type": "display_data"
    }
   ],
   "source": [
    "#set large figure\n",
    "plt.figure(figsize=(12,4))\n",
    "\n",
    "#call plotter\n",
    "hp.plotter(wd, m)\n",
    "\n",
    "#display measures computed\n",
    "for measure in m.keys():\n",
    "    print('%s: %f' %(measure, m[measure]))"
   ]
  },
  {
   "cell_type": "code",
   "execution_count": 33,
   "metadata": {
    "id": "AAv1Z4U1Wjdh"
   },
   "outputs": [],
   "source": [
    "# from heartpy.datautils import rolling_mean, _sliding_window\n",
    "# from heartpy.peakdetection import detect_peaks"
   ]
  },
  {
   "cell_type": "code",
   "execution_count": 34,
   "metadata": {
    "id": "PnytTywZXxD9"
   },
   "outputs": [],
   "source": [
    "# Searching for parameters\n",
    "# for windowsize in np.linspace(0, 1, 10):\n",
    "  \n",
    "#   for ma_perc in np.linspace(0, 40, 80):\n",
    "\n",
    "#     rol_mean = rolling_mean(data, windowsize = windowsize, sample_rate = 256.0)\n",
    "#     wd = detect_peaks(data, rol_mean, ma_perc= ma_perc,sample_rate = 256.0)\n",
    "#     len(wd['peaklist'])"
   ]
  },
  {
   "cell_type": "code",
   "execution_count": 4,
   "metadata": {},
   "outputs": [],
   "source": [
    "def read_bdf(path):\n",
    "    f = pyedflib.EdfReader(path)\n",
    "    n = f.signals_in_file\n",
    "    signal_labels = f.getSignalLabels()\n",
    "    sigbufs = np.zeros((n, f.getNSamples()[0]))\n",
    "    for i in np.arange(n):\n",
    "            sigbufs[i, :] = f.readSignal(i)\n",
    "            \n",
    "    return sigbufs"
   ]
  },
  {
   "cell_type": "code",
   "execution_count": 5,
   "metadata": {},
   "outputs": [],
   "source": [
    "def get_bpm(data):\n",
    "    wd, m = hp.process(data, sample_rate=256.0)\n",
    "    return m['bpm']"
   ]
  },
  {
   "cell_type": "code",
   "execution_count": 22,
   "metadata": {},
   "outputs": [],
   "source": [
    "bpms = {}"
   ]
  },
  {
   "cell_type": "code",
   "execution_count": 32,
   "metadata": {},
   "outputs": [
    {
     "name": "stdout",
     "output_type": "stream",
     "text": [
      "546\n",
      "82.17827457724276\n",
      "--------------------\n",
      "536\n",
      "83.13163998740012\n",
      "--------------------\n",
      "932\n",
      "79.98926260972272\n",
      "--------------------\n",
      "394\n",
      "141.70609068252372\n",
      "--------------------\n",
      "808\n",
      "61.630644125829235\n",
      "--------------------\n",
      "156\n",
      "75.44435917114352\n",
      "--------------------\n",
      "1190\n",
      "84.8812835855025\n",
      "--------------------\n",
      "1310\n",
      "92.85020440965792\n",
      "--------------------\n",
      "402\n",
      "65.30053475935829\n",
      "--------------------\n",
      "794\n",
      "59.73615312269643\n",
      "--------------------\n",
      "1192\n",
      "86.200416648952\n",
      "--------------------\n",
      "818\n",
      "67.29283539028691\n",
      "--------------------\n",
      "654\n",
      "69.20803109449658\n",
      "--------------------\n",
      "550\n",
      "82.26564949315498\n",
      "--------------------\n",
      "22\n",
      "69.8874917273329\n",
      "--------------------\n",
      "14\n",
      "67.92384949782641\n",
      "--------------------\n",
      "916\n",
      "74.89530221276175\n",
      "--------------------\n",
      "140\n",
      "78.91912464319695\n",
      "--------------------\n",
      "560\n",
      "82.31296073613217\n",
      "--------------------\n",
      "938\n",
      "77.95934385056118\n",
      "--------------------\n",
      "688\n",
      "70.70660572781377\n",
      "--------------------\n"
     ]
    }
   ],
   "source": [
    "for session_folder in os.listdir(\"dataset\"):\n",
    "    \n",
    "    if session_folder in bpms.keys():\n",
    "        continue\n",
    "        \n",
    "    \n",
    "    bdf_file = glob.glob(\"./dataset/{}/*.bdf\".format(session_folder))[0]\n",
    "    \n",
    "    data = read_bdf(bdf_file)[34] # Channel 35 in data corresponds to ECG \n",
    "    \n",
    "    print(session_folder)\n",
    "    print(get_bpm(data))\n",
    "    \n",
    "    bpms[session_folder] = get_bpm(data)\n",
    "    \n",
    "    print('-' * 20)"
   ]
  },
  {
   "cell_type": "code",
   "execution_count": 38,
   "metadata": {},
   "outputs": [],
   "source": [
    "bpms_selected = {}"
   ]
  },
  {
   "cell_type": "code",
   "execution_count": 39,
   "metadata": {},
   "outputs": [],
   "source": [
    "for session, bpm in bpms.items():\n",
    "    if bpm < 100:\n",
    "        bpms_selected[session] = bpm"
   ]
  },
  {
   "cell_type": "code",
   "execution_count": 47,
   "metadata": {},
   "outputs": [
    {
     "data": {
      "text/html": [
       "<div>\n",
       "<style scoped>\n",
       "    .dataframe tbody tr th:only-of-type {\n",
       "        vertical-align: middle;\n",
       "    }\n",
       "\n",
       "    .dataframe tbody tr th {\n",
       "        vertical-align: top;\n",
       "    }\n",
       "\n",
       "    .dataframe thead th {\n",
       "        text-align: right;\n",
       "    }\n",
       "</style>\n",
       "<table border=\"1\" class=\"dataframe\">\n",
       "  <thead>\n",
       "    <tr style=\"text-align: right;\">\n",
       "      <th></th>\n",
       "      <th>bpm</th>\n",
       "    </tr>\n",
       "  </thead>\n",
       "  <tbody>\n",
       "    <tr>\n",
       "      <th>2</th>\n",
       "      <td>73.210177</td>\n",
       "    </tr>\n",
       "    <tr>\n",
       "      <th>532</th>\n",
       "      <td>84.185578</td>\n",
       "    </tr>\n",
       "    <tr>\n",
       "      <th>788</th>\n",
       "      <td>60.418617</td>\n",
       "    </tr>\n",
       "    <tr>\n",
       "      <th>132</th>\n",
       "      <td>73.083565</td>\n",
       "    </tr>\n",
       "    <tr>\n",
       "      <th>924</th>\n",
       "      <td>74.469018</td>\n",
       "    </tr>\n",
       "    <tr>\n",
       "      <th>...</th>\n",
       "      <td>...</td>\n",
       "    </tr>\n",
       "    <tr>\n",
       "      <th>916</th>\n",
       "      <td>74.895302</td>\n",
       "    </tr>\n",
       "    <tr>\n",
       "      <th>140</th>\n",
       "      <td>78.919125</td>\n",
       "    </tr>\n",
       "    <tr>\n",
       "      <th>560</th>\n",
       "      <td>82.312961</td>\n",
       "    </tr>\n",
       "    <tr>\n",
       "      <th>938</th>\n",
       "      <td>77.959344</td>\n",
       "    </tr>\n",
       "    <tr>\n",
       "      <th>688</th>\n",
       "      <td>70.706606</td>\n",
       "    </tr>\n",
       "  </tbody>\n",
       "</table>\n",
       "<p>184 rows × 1 columns</p>\n",
       "</div>"
      ],
      "text/plain": [
       "           bpm\n",
       "2    73.210177\n",
       "532  84.185578\n",
       "788  60.418617\n",
       "132  73.083565\n",
       "924  74.469018\n",
       "..         ...\n",
       "916  74.895302\n",
       "140  78.919125\n",
       "560  82.312961\n",
       "938  77.959344\n",
       "688  70.706606\n",
       "\n",
       "[184 rows x 1 columns]"
      ]
     },
     "execution_count": 47,
     "metadata": {},
     "output_type": "execute_result"
    }
   ],
   "source": [
    "df = pd.DataFrame(pd.Series(bpms_selected), columns=['bpm'])\n",
    "df"
   ]
  },
  {
   "cell_type": "code",
   "execution_count": 56,
   "metadata": {},
   "outputs": [
    {
     "data": {
      "text/plain": [
       "(array([71., 49., 47., 11.]),\n",
       " array([ 60.,  70.,  80.,  90., 100.]),\n",
       " <BarContainer object of 4 artists>)"
      ]
     },
     "execution_count": 56,
     "metadata": {},
     "output_type": "execute_result"
    },
    {
     "data": {
      "image/png": "[encoded data removed]",
      "text/plain": [
       "<Figure size 432x288 with 1 Axes>"
      ]
     },
     "metadata": {
      "needs_background": "light"
     },
     "output_type": "display_data"
    }
   ],
   "source": [
    "plt.hist(df[\"bpm\"], bins=np.linspace(60, 100, 5))"
   ]
  },
  {
   "cell_type": "code",
   "execution_count": 58,
   "metadata": {},
   "outputs": [],
   "source": [
    "df.to_csv(\"bpm_dataset.csv\")"
   ]
  }
 ],
 "metadata": {
  "colab": {
   "collapsed_sections": [],
   "name": "BDF.ipynb",
   "provenance": []
  },
  "kernelspec": {
   "display_name": "Python 3",
   "language": "python",
   "name": "python3"
  },
  "language_info": {
   "codemirror_mode": {
    "name": "ipython",
    "version": 3
   },
   "file_extension": ".py",
   "mimetype": "text/x-python",
   "name": "python",
   "nbconvert_exporter": "python",
   "pygments_lexer": "ipython3",
   "version": "3.8.10"
  }
 },
 "nbformat": 4,
 "nbformat_minor": 1
}
